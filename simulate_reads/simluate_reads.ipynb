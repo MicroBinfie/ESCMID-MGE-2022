{
 "cells": [
  {
   "cell_type": "markdown",
   "id": "5eed52c4",
   "metadata": {},
   "source": [
    "#  Simulated reads from EC958 \n",
    "First convert genbank files to FASTA"
   ]
  },
  {
   "cell_type": "code",
   "execution_count": 39,
   "id": "1d8b6e2d",
   "metadata": {},
   "outputs": [
    {
     "name": "stdout",
     "output_type": "stream",
     "text": [
      "Dealing with GenBank record HG941720.1\n",
      "Dealing with GenBank record HG941718.1\n",
      "Dealing with GenBank record HG941719.1\n"
     ]
    }
   ],
   "source": [
    "from Bio import SeqIO\n",
    "from os import listdir, path \n",
    "from textwrap import wrap\n",
    "\n",
    "for genbank in [ path.join('../ori', x) for x in listdir('../ori') if x.endswith('.gbk')]: \n",
    "    output_handle = open('../seq/' + path.basename(genbank).replace('.gbk', '.fasta'), 'w')\n",
    "    for seq_record in SeqIO.parse(open(genbank), \"genbank\") :\n",
    "        print(\"Dealing with GenBank record %s\" % seq_record.id)\n",
    "        clean_seq = \"\\n\".join(wrap(str(seq_record.seq)))\n",
    "        output_handle.write(f\">{seq_record.id} {seq_record.description}\\n{clean_seq}\\n\")\n",
    "    output_handle.close()\n"
   ]
  },
  {
   "cell_type": "markdown",
   "id": "58b71c00",
   "metadata": {},
   "source": [
    "## Create simulated short reads (illumina)\n",
    "We will use art_illumina to simulate illumina short reads. \n",
    "\n",
    "We can install it into our conda env as follows: \n",
    "```\n",
    "conda activate mge2022 \n",
    "mamba install -y -c bioconda art\n",
    "```\n",
    "\n",
    "We need to give it the input sequence (as a fasta) and choose options like the read length (-l), the coverage (-f), and template size (-m). \n"
   ]
  },
  {
   "cell_type": "code",
   "execution_count": 36,
   "id": "52e8968e",
   "metadata": {},
   "outputs": [
    {
     "name": "stdout",
     "output_type": "stream",
     "text": [
      "EC958-HG941718.fasta   pEC958-HG9417191.fq   pEC958B-HG941720.fasta\n",
      "pEC958-HG941719.fasta  pEC958-HG9417192.aln\n",
      "pEC958-HG9417191.aln   pEC958-HG9417192.fq\n",
      "\n",
      "    ====================ART====================\n",
      "             ART_Illumina (2008-2016)          \n",
      "          Q Version 2.5.8 (June 6, 2016)       \n",
      "     Contact: Weichun Huang <whduke@gmail.com> \n",
      "    -------------------------------------------\n",
      "\n",
      "Warning: your simulation will not output any ALN or SAM file with your parameter settings!\n",
      "                  Paired-end sequencing simulation\n",
      "\n",
      "Total CPU time used: 47.7922\n",
      "\n",
      "The random seed for the run: 200\n",
      "\n",
      "Parameters used during run\n",
      "\tRead Length:\t150\n",
      "\tGenome masking 'N' cutoff frequency: \t1 in 150\n",
      "\tFold Coverage:            40X\n",
      "\tMean Fragment Length:     200\n",
      "\tStandard Deviation:       10\n",
      "\tProfile Type:             Combined\n",
      "\tID Tag:                   \n",
      "\n",
      "Quality Profile(s)\n",
      "\tFirst Read:   HiSeq 2500 Length 150 R1 (built-in profile) \n",
      "\tFirst Read:   HiSeq 2500 Length 150 R2 (built-in profile) \n",
      "\n",
      "Output files\n",
      "\n",
      "  FASTQ Sequence Files:\n",
      "\t the 1st reads: EC958-HG9417181.fq\n",
      "\t the 2nd reads: EC958-HG9417182.fq\n",
      "\n",
      "\n",
      "    ====================ART====================\n",
      "             ART_Illumina (2008-2016)          \n",
      "          Q Version 2.5.8 (June 6, 2016)       \n",
      "     Contact: Weichun Huang <whduke@gmail.com> \n",
      "    -------------------------------------------\n",
      "\n",
      "Warning: your simulation will not output any ALN or SAM file with your parameter settings!\n",
      "                  Paired-end sequencing simulation\n",
      "\n",
      "Total CPU time used: 2.88589\n",
      "\n",
      "The random seed for the run: 200\n",
      "\n",
      "Parameters used during run\n",
      "\tRead Length:\t150\n",
      "\tGenome masking 'N' cutoff frequency: \t1 in 150\n",
      "\tFold Coverage:            40X\n",
      "\tMean Fragment Length:     200\n",
      "\tStandard Deviation:       10\n",
      "\tProfile Type:             Combined\n",
      "\tID Tag:                   \n",
      "\n",
      "Quality Profile(s)\n",
      "\tFirst Read:   HiSeq 2500 Length 150 R1 (built-in profile) \n",
      "\tFirst Read:   HiSeq 2500 Length 150 R2 (built-in profile) \n",
      "\n",
      "Output files\n",
      "\n",
      "  FASTQ Sequence Files:\n",
      "\t the 1st reads: pEC958-HG9417191.fq\n",
      "\t the 2nd reads: pEC958-HG9417192.fq\n",
      "\n",
      "\n",
      "    ====================ART====================\n",
      "             ART_Illumina (2008-2016)          \n",
      "          Q Version 2.5.8 (June 6, 2016)       \n",
      "     Contact: Weichun Huang <whduke@gmail.com> \n",
      "    -------------------------------------------\n",
      "\n",
      "Warning: your simulation will not output any ALN or SAM file with your parameter settings!\n",
      "                  Paired-end sequencing simulation\n",
      "\n",
      "Total CPU time used: 0.7489\n",
      "\n",
      "The random seed for the run: 200\n",
      "\n",
      "Parameters used during run\n",
      "\tRead Length:\t150\n",
      "\tGenome masking 'N' cutoff frequency: \t1 in 150\n",
      "\tFold Coverage:            40X\n",
      "\tMean Fragment Length:     200\n",
      "\tStandard Deviation:       10\n",
      "\tProfile Type:             Combined\n",
      "\tID Tag:                   \n",
      "\n",
      "Quality Profile(s)\n",
      "\tFirst Read:   HiSeq 2500 Length 150 R1 (built-in profile) \n",
      "\tFirst Read:   HiSeq 2500 Length 150 R2 (built-in profile) \n",
      "\n",
      "Output files\n",
      "\n",
      "  FASTQ Sequence Files:\n",
      "\t the 1st reads: pEC958B-HG9417201.fq\n",
      "\t the 2nd reads: pEC958B-HG9417202.fq\n",
      "\n"
     ]
    }
   ],
   "source": [
    "!ls ../seq\n",
    "!art_illumina -ss HS25  -i ../seq/EC958-HG941718.fasta -p -l 150 -f 40 -m 200 -s 10 -o EC958-HG941718 --rndSeed 200 -na \n",
    "!art_illumina -ss HS25  -i ../seq/pEC958-HG941719.fasta -p -l 150 -f 40 -m 200 -s 10 -o pEC958-HG941719 --rndSeed 200  -na \n",
    "!art_illumina -ss HS25  -i ../seq/pEC958B-HG941720.fasta -p -l 150 -f 40 -m 200 -s 10 -o pEC958B-HG941720 --rndSeed 200  -na \n"
   ]
  },
  {
   "cell_type": "markdown",
   "id": "29d5f24a",
   "metadata": {},
   "source": [
    "## Tidy up and merge\n",
    "ART produces seperate read sets for each reference, which we now merge and compress into two FASTQ files (read and pair). "
   ]
  },
  {
   "cell_type": "code",
   "execution_count": 37,
   "id": "a7935ff0",
   "metadata": {},
   "outputs": [],
   "source": [
    "!gzip -c EC958-HG9417181.fq pEC958-HG9417191.fq  pEC958B-HG9417201.fq  > ../seq/MGE-2022_1.fastq.gz \n",
    "!gzip -c EC958-HG9417182.fq pEC958-HG9417192.fq  pEC958B-HG9417202.fq  > ../seq/MGE-2022_2.fastq.gz \n",
    "!rm *.fq "
   ]
  },
  {
   "cell_type": "markdown",
   "id": "daff66da",
   "metadata": {},
   "source": [
    "## Create simulated reads (nanopore)\n",
    "We will use badread to simualte reads. We will install it in its own conda env and use it. Simulating reads for the chromosome i.e. `EC958-HG941718.fasta` can take some time. "
   ]
  },
  {
   "cell_type": "markdown",
   "id": "9f12d9c2",
   "metadata": {},
   "source": [
    "```\n",
    "mamba create -y -n badread badread\n",
    "conda activate badread\n",
    "badread  simulate --reference ../seq/pEC958-HG941719.fasta   --quantity 20x | gzip > MGE-2022_ONT.fastq.gz\n",
    "badread  simulate --reference ../seq/pEC958B-HG941720.fasta   --quantity 20x | gzip >> MGE-2022_ONT.fastq.gz\n",
    "badread  simulate --reference ../seq/EC958-HG941718.fasta   --quantity 20x | gzip >> MGE-2022_ONT.fastq.gz\n",
    "```\n"
   ]
  },
  {
   "cell_type": "markdown",
   "id": "7daffbf9",
   "metadata": {},
   "source": [
    "By the end of the process we have in the `seq` directory: \n",
    " \n",
    "* A fasta file for each of the original reference sequences \n",
    "* Simulated short reads for each reference seqeunce combined together for the first read. \n",
    "* Simulated short reads for each reference seqeunce combined together  for the second read. \n",
    "* Simulated ONT reads for each reference seqeunce combined together  \n"
   ]
  },
  {
   "cell_type": "code",
   "execution_count": 50,
   "id": "0d788db1",
   "metadata": {},
   "outputs": [
    {
     "name": "stdout",
     "output_type": "stream",
     "text": [
      "total 196M\r\n",
      "drwxrwxr-x 2 ubuntu ubuntu 4.0K Jun 16 11:02 .\r\n",
      "drwxrwxr-x 8 ubuntu ubuntu 4.0K Jun 16 10:43 ..\r\n",
      "-rw-rw-r-- 1 ubuntu ubuntu 5.0M Jun 16 10:28 EC958-HG941718.fasta\r\n",
      "-rw-rw-r-- 1 ubuntu ubuntu  66M Jun 16 10:25 MGE-2022_1.fastq.gz\r\n",
      "-rw-rw-r-- 1 ubuntu ubuntu  67M Jun 16 10:25 MGE-2022_2.fastq.gz\r\n",
      "-rw-rw-r-- 1 ubuntu ubuntu  56M Jun 16 11:18 MGE-2022_ONT.fastq.gz\r\n",
      "-rw-rw-r-- 1 ubuntu ubuntu 135K Jun 16 10:28 pEC958-HG941719.fasta\r\n",
      "-rw-rw-r-- 1 ubuntu ubuntu 4.2K Jun 16 10:28 pEC958B-HG941720.fasta\r\n",
      "-rw-rw-r-- 1 ubuntu ubuntu 2.8M Jun 16 10:59 reads.fastq.gz\r\n"
     ]
    }
   ],
   "source": [
    "!ls  -ahl ../seq"
   ]
  },
  {
   "cell_type": "markdown",
   "id": "3e23077f",
   "metadata": {},
   "source": []
  }
 ],
 "metadata": {
  "kernelspec": {
   "display_name": "Python 3 (ipykernel)",
   "language": "python",
   "name": "python3"
  },
  "language_info": {
   "codemirror_mode": {
    "name": "ipython",
    "version": 3
   },
   "file_extension": ".py",
   "mimetype": "text/x-python",
   "name": "python",
   "nbconvert_exporter": "python",
   "pygments_lexer": "ipython3",
   "version": "3.10.5"
  }
 },
 "nbformat": 4,
 "nbformat_minor": 5
}
