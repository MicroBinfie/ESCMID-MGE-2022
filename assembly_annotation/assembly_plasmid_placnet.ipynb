{
 "cells": [
  {
   "cell_type": "markdown",
   "id": "4586ecfd",
   "metadata": {},
   "source": [
    "# Looking for plasmids in a short read genome assemblies with PLACNETw\n",
    "\n",
    "https://castillo.dicom.unican.es/ex1?unique=62ac38051d1f8\n",
    "\n",
    "<div>\n",
    "<img src=\"placnetw_upload.png\" width=\"500\"/>\n",
    "</div>\n",
    "\n",
    "\n",
    "\n",
    "<div>\n",
    "<img src=\"placnet_output.png\" width=\"500\"/>\n",
    "</div>\n"
   ]
  },
  {
   "cell_type": "code",
   "execution_count": null,
   "id": "87875376",
   "metadata": {},
   "outputs": [],
   "source": []
  }
 ],
 "metadata": {
  "kernelspec": {
   "display_name": "Python 3 (ipykernel)",
   "language": "python",
   "name": "python3"
  },
  "language_info": {
   "codemirror_mode": {
    "name": "ipython",
    "version": 3
   },
   "file_extension": ".py",
   "mimetype": "text/x-python",
   "name": "python",
   "nbconvert_exporter": "python",
   "pygments_lexer": "ipython3",
   "version": "3.10.5"
  }
 },
 "nbformat": 4,
 "nbformat_minor": 5
}
