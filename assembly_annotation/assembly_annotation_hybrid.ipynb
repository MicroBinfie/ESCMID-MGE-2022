{
 "cells": [
  {
   "cell_type": "markdown",
   "id": "48fab415",
   "metadata": {},
   "source": [
    "# Hybrid assembly and annotation \n",
    "If you recall, our sequence data is in the `seq` directory.\n"
   ]
  },
  {
   "cell_type": "code",
   "execution_count": 1,
   "id": "69e7ba98",
   "metadata": {},
   "outputs": [
    {
     "name": "stdout",
     "output_type": "stream",
     "text": [
      "EC958-HG941718.fasta  MGE-2022_ONT.fastq.gz   reads.fastq.gz\r\n",
      "MGE-2022_1.fastq.gz   pEC958-HG941719.fasta\r\n",
      "MGE-2022_2.fastq.gz   pEC958B-HG941720.fasta\r\n"
     ]
    }
   ],
   "source": [
    "!ls ../seq"
   ]
  },
  {
   "cell_type": "markdown",
   "id": "03c5176c",
   "metadata": {},
   "source": [
    "```\n",
    "unicycler -1 seq/MGE-2022_1.fastq.gz  -2 seq/MGE-2022_2.fastq.gz -l seq/MGE-2022_ONT.fastq.gz -o ass/unicycler\n",
    "```\n"
   ]
  },
  {
   "cell_type": "markdown",
   "id": "ed823685",
   "metadata": {},
   "source": [
    "| Assembly                   | HYBRID   | Assembly                    | HYBRID     |\n",
    "|----------------------------|----------|-----------------------------|------------|\n",
    "| # contigs (>= 0 bp)        | 3        | LG75                        | 1          |\n",
    "| # contigs (>= 1000 bp)     | 3        | # misassemblies             | 0          |\n",
    "| # contigs (>= 5000 bp)     | 2        | # misassembled contigs      | 0          |\n",
    "| # contigs (>= 10000 bp)    | 2        | Misassembled contigs length | 0          |\n",
    "| # contigs (>= 25000 bp)    | 2        | # local misassemblies       | 0          |\n",
    "| # contigs (>= 50000 bp)    | 2        | # scaffold gap ext. mis.    | 0          |\n",
    "| Total length (>= 0 bp)     | 5249059  | # scaffold gap loc. mis.    | 0          |\n",
    "| Total length (>= 1000 bp)  | 5249059  | # unaligned mis. contigs    | 1          |\n",
    "| Total length (>= 5000 bp)  | 5245097  | # unaligned contigs         | 1 + 1 part |\n",
    "| Total length (>= 10000 bp) | 5245097  | Unaligned length            | 133857     |\n",
    "| Total length (>= 25000 bp) | 5245097  | Genome fraction (%)         | 99.997     |\n",
    "| Total length (>= 50000 bp) | 5245097  | Duplication ratio           | 1.001      |\n",
    "| # contigs                  | 3        | # N's per 100 kbp           | 0          |\n",
    "| Largest contig             | 5109618  | # mismatches per 100 kbp    | 0.8        |\n",
    "| Total length               | 5249059  | # indels per 100 kbp        | 0.18       |\n",
    "| Reference length           | 5109767  | Largest alignment           | 5109618    |\n",
    "| GC (%)                     | 50.81    | Total aligned length        | 5115202    |\n",
    "| Reference GC (%)           | 50.77    | NA50                        | 5109618    |\n",
    "| N50                        | 5109618  | NGA50                       | 5109618    |\n",
    "| NG50                       | 5109618  | NA75                        | 5109618    |\n",
    "| N75                        | 5109618  | NGA75                       | 5109618    |\n",
    "| NG75                       | 5109618  | LA50                        | 1          |\n",
    "| L50                        | 1        | LGA50                       | 1          |\n",
    "| LG50                       | 1        | LA75                        | 1          |\n",
    "| L75                        | 1        | LGA75                       | 1          |\n",
    "\n",
    "| Metric                     | spades  | Metric                      | spades     |\n",
    "|----------------------------|---------|-----------------------------|------------|\n",
    "| # contigs (>= 0 bp)        | 240     | # misassemblies             | 1          |\n",
    "| # contigs (>= 1000 bp)     | 90      | # misassembled contigs      | 1          |\n",
    "| # contigs (>= 5000 bp)     | 53      | Misassembled contigs length | 320802     |\n",
    "| # contigs (>= 10000 bp)    | 42      | # local misassemblies       | 0          |\n",
    "| # contigs (>= 25000 bp)    | 30      | # scaffold gap ext. mis.    | 0          |\n",
    "| # contigs (>= 50000 bp)    | 24      | # scaffold gap loc. mis.    | 0          |\n",
    "| Total length (>= 0 bp)     | 5204624 | # unaligned mis. contigs    | 0          |\n",
    "| Total length (>= 1000 bp)  | 5153166 | # unaligned contigs         | 8 + 6 part |\n",
    "| Total length (>= 5000 bp)  | 5064120 | Unaligned length            | 129511     |\n",
    "| Total length (>= 10000 bp) | 4988300 | Genome fraction (%)         | 98.629     |\n",
    "| Total length (>= 25000 bp) | 4790267 | Duplication ratio           | 1.001      |\n",
    "| Total length (>= 50000 bp) | 4573728 | # N's per 100 kbp           | 0          |\n",
    "| # contigs                  | 114     | # mismatches per 100 kbp    | 0.12       |\n",
    "| Largest contig             | 512292  | # indels per 100 kbp        | 0          |\n",
    "| Total length               | 5171846 | Largest alignment           | 512292     |\n",
    "| Reference length           | 5109767 | Total aligned length        | 5042335    |\n",
    "| GC (%)                     | 50.81   | NA50                        | 173149     |\n",
    "| Reference GC (%)           | 50.77   | NGA50                       | 173149     |\n",
    "| N50                        | 191195  | NA75                        | 112142     |\n",
    "| NG50                       | 191671  | NGA75                       | 112142     |\n",
    "| N75                        | 112142  | LA50                        | 9          |\n",
    "| NG75                       | 112142  | LGA50                       | 9          |\n",
    "| L50                        | 9       | LA75                        | 18         |\n",
    "| LG50                       | 8       | LGA75                       | 18         |\n",
    "| L75                        | 17      |                             |            |\n",
    "| LG75                       | 17      |                             |            |\n",
    "\n",
    "\n",
    "\n",
    "\n",
    "<div>\n",
    "<img src=\"hybrid_quast_graph.png\" width=\"500\"/>\n",
    "</div>\n"
   ]
  },
  {
   "cell_type": "code",
   "execution_count": null,
   "id": "839535cc",
   "metadata": {},
   "outputs": [],
   "source": []
  }
 ],
 "metadata": {
  "kernelspec": {
   "display_name": "Python 3 (ipykernel)",
   "language": "python",
   "name": "python3"
  },
  "language_info": {
   "codemirror_mode": {
    "name": "ipython",
    "version": 3
   },
   "file_extension": ".py",
   "mimetype": "text/x-python",
   "name": "python",
   "nbconvert_exporter": "python",
   "pygments_lexer": "ipython3",
   "version": "3.10.5"
  }
 },
 "nbformat": 4,
 "nbformat_minor": 5
}
