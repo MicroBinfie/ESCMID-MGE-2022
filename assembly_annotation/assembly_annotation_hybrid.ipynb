{
 "cells": [
  {
   "cell_type": "markdown",
   "id": "0b6c01d2",
   "metadata": {},
   "source": [
    "# Hybrid assembly and annotation \n",
    "If you recall, our sequence data is in the `seq` directory.\n"
   ]
  },
  {
   "cell_type": "code",
   "execution_count": 1,
   "id": "ff3ae991",
   "metadata": {},
   "outputs": [
    {
     "name": "stdout",
     "output_type": "stream",
     "text": [
      "EC958-HG941718.fasta  MGE-2022_ONT.fastq.gz   reads.fastq.gz\r\n",
      "MGE-2022_1.fastq.gz   pEC958-HG941719.fasta\r\n",
      "MGE-2022_2.fastq.gz   pEC958B-HG941720.fasta\r\n"
     ]
    }
   ],
   "source": [
    "!ls ../seq"
   ]
  },
  {
   "cell_type": "markdown",
   "id": "1e45383e",
   "metadata": {},
   "source": [
    "```\n",
    "unicycler -1 seq/MGE-2022_1.fastq.gz  -2 seq/MGE-2022_2.fastq.gz -l seq/MGE-2022_ONT.fastq.gz -o ass/unicycler\n",
    "```\n"
   ]
  },
  {
   "cell_type": "code",
   "execution_count": null,
   "id": "4f5c5c83",
   "metadata": {},
   "outputs": [],
   "source": []
  }
 ],
 "metadata": {
  "kernelspec": {
   "display_name": "Python 3 (ipykernel)",
   "language": "python",
   "name": "python3"
  },
  "language_info": {
   "codemirror_mode": {
    "name": "ipython",
    "version": 3
   },
   "file_extension": ".py",
   "mimetype": "text/x-python",
   "name": "python",
   "nbconvert_exporter": "python",
   "pygments_lexer": "ipython3",
   "version": "3.10.5"
  }
 },
 "nbformat": 4,
 "nbformat_minor": 5
}
