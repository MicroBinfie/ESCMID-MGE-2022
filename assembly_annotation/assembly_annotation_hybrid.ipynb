{
 "cells": [
  {
   "cell_type": "markdown",
   "id": "15ebc674",
   "metadata": {},
   "source": [
    "# Hybrid assembly and annotation \n",
    "If you recall, our sequence data is in the `seq` directory.\n"
   ]
  },
  {
   "cell_type": "code",
   "execution_count": 1,
   "id": "d711b1aa",
   "metadata": {},
   "outputs": [
    {
     "name": "stdout",
     "output_type": "stream",
     "text": [
      "EC958-HG941718.fasta  MGE-2022_ONT.fastq.gz   reads.fastq.gz\r\n",
      "MGE-2022_1.fastq.gz   pEC958-HG941719.fasta\r\n",
      "MGE-2022_2.fastq.gz   pEC958B-HG941720.fasta\r\n"
     ]
    }
   ],
   "source": [
    "!ls ../seq"
   ]
  },
  {
   "cell_type": "markdown",
   "id": "393a4872",
   "metadata": {},
   "source": [
    "```\n",
    "unicycler -1 seq/MGE-2022_1.fastq.gz  -2 seq/MGE-2022_2.fastq.gz -l seq/MGE-2022_ONT.fastq.gz -o ass/unicycler\n",
    "```\n"
   ]
  },
  {
   "cell_type": "markdown",
   "id": "8975d8b2",
   "metadata": {},
   "source": [
    "| Assembly                   | Hybrid  | Illumina only | Assembly                    | Hybrid     | Illumina only |\n",
    "|----------------------------|---------|---------------|-----------------------------|------------|---------------|\n",
    "| # contigs (>= 0 bp)        | 3       | 240           | LG75                        | 1          | 17            |\n",
    "| # contigs (>= 1000 bp)     | 3       | 90            | # misassemblies             | 0          | 1             |\n",
    "| # contigs (>= 5000 bp)     | 2       | 53            | # misassembled contigs      | 0          | 1             |\n",
    "| # contigs (>= 10000 bp)    | 2       | 42            | Misassembled contigs length | 0          | 320802        |\n",
    "| # contigs (>= 25000 bp)    | 2       | 30            | # local misassemblies       | 0          | 0             |\n",
    "| # contigs (>= 50000 bp)    | 2       | 24            | # scaffold gap ext. mis.    | 0          | 0             |\n",
    "| Total length (>= 0 bp)     | 5249059 | 5204624       | # scaffold gap loc. mis.    | 0          | 0             |\n",
    "| Total length (>= 1000 bp)  | 5249059 | 5153166       | # unaligned mis. contigs    | 1          | 0             |\n",
    "| Total length (>= 5000 bp)  | 5245097 | 5064120       | # unaligned contigs         | 1 + 1 part | 8 + 6 part    |\n",
    "| Total length (>= 10000 bp) | 5245097 | 4988300       | Unaligned length            | 133857     | 129511        |\n",
    "| Total length (>= 25000 bp) | 5245097 | 4790267       | Genome fraction (%)         | 99.997     | 98.629        |\n",
    "| Total length (>= 50000 bp) | 5245097 | 4573728       | Duplication ratio           | 1.001      | 1.001         |\n",
    "| # contigs                  | 3       | 114           | # N's per 100 kbp           | 0          | 0             |\n",
    "| Largest contig             | 5109618 | 512292        | # mismatches per 100 kbp    | 0.8        | 0.12          |\n",
    "| Total length               | 5249059 | 5171846       | # indels per 100 kbp        | 0.18       | 0             |\n",
    "| Reference length           | 5109767 | 5109767       | Largest alignment           | 5109618    | 512292        |\n",
    "| GC (%)                     | 50.81   | 50.81         | Total aligned length        | 5115202    | 5042335       |\n",
    "| Reference GC (%)           | 50.77   | 50.77         | NA50                        | 5109618    | 173149        |\n",
    "| N50                        | 5109618 | 191195        | NGA50                       | 5109618    | 173149        |\n",
    "| NG50                       | 5109618 | 191671        | NA75                        | 5109618    | 112142        |\n",
    "| N75                        | 5109618 | 112142        | NGA75                       | 5109618    | 112142        |\n",
    "| NG75                       | 5109618 | 112142        | LA50                        | 1          | 9             |\n",
    "| L50                        | 1       | 9             | LGA50                       | 1          | 9             |\n",
    "| LG50                       | 1       | 8             | LA75                        | 1          | 18            |\n",
    "| L75                        | 1       | 17            | LGA75                       | 1          | 18            |\n",
    "\n",
    "\n",
    "<div>\n",
    "<img src=\"hybrid_quast_graph.png\" width=\"500\"/>\n",
    "</div>\n"
   ]
  },
  {
   "cell_type": "markdown",
   "id": "bf55a65a",
   "metadata": {},
   "source": [
    "## Annotation with PROKKA\n",
    "\n",
    "```\n",
    "prokka ass/unicycler/spades.fasta  --outdir ass/unicycler.anno\n",
    "```\n"
   ]
  },
  {
   "cell_type": "code",
   "execution_count": null,
   "id": "3a9a2866",
   "metadata": {},
   "outputs": [],
   "source": []
  }
 ],
 "metadata": {
  "kernelspec": {
   "display_name": "Python 3 (ipykernel)",
   "language": "python",
   "name": "python3"
  },
  "language_info": {
   "codemirror_mode": {
    "name": "ipython",
    "version": 3
   },
   "file_extension": ".py",
   "mimetype": "text/x-python",
   "name": "python",
   "nbconvert_exporter": "python",
   "pygments_lexer": "ipython3",
   "version": "3.10.5"
  }
 },
 "nbformat": 4,
 "nbformat_minor": 5
}
