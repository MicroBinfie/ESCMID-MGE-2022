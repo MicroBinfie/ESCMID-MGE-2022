{
 "cells": [
  {
   "cell_type": "markdown",
   "id": "3aa7567f",
   "metadata": {},
   "source": [
    "# Short read assembly and annotation \n",
    "If you recall, our sequence data is in the `seq` directory."
   ]
  },
  {
   "cell_type": "code",
   "execution_count": 5,
   "id": "20daa4f5",
   "metadata": {},
   "outputs": [
    {
     "name": "stdout",
     "output_type": "stream",
     "text": [
      "EC958-HG941718.fasta  MGE-2022_ONT.fastq.gz   reads.fastq.gz\r\n",
      "MGE-2022_1.fastq.gz   pEC958-HG941719.fasta\r\n",
      "MGE-2022_2.fastq.gz   pEC958B-HG941720.fasta\r\n"
     ]
    }
   ],
   "source": [
    "!ls ../seq/"
   ]
  },
  {
   "cell_type": "markdown",
   "id": "c44fc8fb",
   "metadata": {},
   "source": [
    "We can run Shovill with:\n",
    "```\n",
    "shovill --R1 seq/MGE-2022_1.fastq.gz  --R2  seq/MGE-2022_2.fastq.gz --outdir ass/shovill --force\n",
    "```"
   ]
  },
  {
   "cell_type": "markdown",
   "id": "ca171286",
   "metadata": {},
   "source": [
    "We can compare our original reference and see some basic genome assembly metrics with QUAST. http://cab.cc.spbu.ru/quast/\n",
    "\n",
    "| Metric                     | spades  | Metric                      | spades     |\n",
    "|----------------------------|---------|-----------------------------|------------|\n",
    "| # contigs (>= 0 bp)        | 240     | # misassemblies             | 1          |\n",
    "| # contigs (>= 1000 bp)     | 90      | # misassembled contigs      | 1          |\n",
    "| # contigs (>= 5000 bp)     | 53      | Misassembled contigs length | 320802     |\n",
    "| # contigs (>= 10000 bp)    | 42      | # local misassemblies       | 0          |\n",
    "| # contigs (>= 25000 bp)    | 30      | # scaffold gap ext. mis.    | 0          |\n",
    "| # contigs (>= 50000 bp)    | 24      | # scaffold gap loc. mis.    | 0          |\n",
    "| Total length (>= 0 bp)     | 5204624 | # unaligned mis. contigs    | 0          |\n",
    "| Total length (>= 1000 bp)  | 5153166 | # unaligned contigs         | 8 + 6 part |\n",
    "| Total length (>= 5000 bp)  | 5064120 | Unaligned length            | 129511     |\n",
    "| Total length (>= 10000 bp) | 4988300 | Genome fraction (%)         | 98.629     |\n",
    "| Total length (>= 25000 bp) | 4790267 | Duplication ratio           | 1.001      |\n",
    "| Total length (>= 50000 bp) | 4573728 | # N's per 100 kbp           | 0          |\n",
    "| # contigs                  | 114     | # mismatches per 100 kbp    | 0.12       |\n",
    "| Largest contig             | 512292  | # indels per 100 kbp        | 0          |\n",
    "| Total length               | 5171846 | Largest alignment           | 512292     |\n",
    "| Reference length           | 5109767 | Total aligned length        | 5042335    |\n",
    "| GC (%)                     | 50.81   | NA50                        | 173149     |\n",
    "| Reference GC (%)           | 50.77   | NGA50                       | 173149     |\n",
    "| N50                        | 191195  | NA75                        | 112142     |\n",
    "| NG50                       | 191671  | NGA75                       | 112142     |\n",
    "| N75                        | 112142  | LA50                        | 9          |\n",
    "| NG75                       | 112142  | LGA50                       | 9          |\n",
    "| L50                        | 9       | LA75                        | 18         |\n",
    "| LG50                       | 8       | LGA75                       | 18         |\n",
    "| L75                        | 17      |                             |            |\n",
    "| LG75                       | 17      |                             |            |\n",
    "\n"
   ]
  },
  {
   "cell_type": "markdown",
   "id": "153ddd08",
   "metadata": {},
   "source": [
    "<div>\n",
    "<img src=\"short_quast_graph.png\" width=\"500\"/>\n",
    "</div>\n"
   ]
  },
  {
   "cell_type": "markdown",
   "id": "f4489d0b",
   "metadata": {},
   "source": [
    "## Annotation with PROKKA\n",
    "\n",
    "```\n",
    "prokka ass/shovill/spades.fasta  --outdir ass/shovill.anno\n",
    "```\n"
   ]
  },
  {
   "cell_type": "code",
   "execution_count": null,
   "id": "a7c08d5c",
   "metadata": {},
   "outputs": [],
   "source": []
  }
 ],
 "metadata": {
  "kernelspec": {
   "display_name": "Python 3 (ipykernel)",
   "language": "python",
   "name": "python3"
  },
  "language_info": {
   "codemirror_mode": {
    "name": "ipython",
    "version": 3
   },
   "file_extension": ".py",
   "mimetype": "text/x-python",
   "name": "python",
   "nbconvert_exporter": "python",
   "pygments_lexer": "ipython3",
   "version": "3.10.5"
  }
 },
 "nbformat": 4,
 "nbformat_minor": 5
}
