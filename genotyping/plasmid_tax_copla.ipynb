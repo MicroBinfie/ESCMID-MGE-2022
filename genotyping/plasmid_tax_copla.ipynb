{
 "cells": [
  {
   "cell_type": "markdown",
   "id": "16d2205b",
   "metadata": {},
   "source": [
    "# Plasmid taxonomy with COPLA\n",
    "\n",
    "<div>\n",
    "<img src=\"copla_upload.png\" width=\"300\"/>\n",
    "</div>\n",
    "\n",
    "| #Total bp | MOB  | MPF   | Replicon      | AMR                                                                                             |\n",
    "|-----------|------|-------|---------------|-------------------------------------------------------------------------------------------------|\n",
    "| 135479    | MOBF | typeF | IncFIA;IncFII | AAC(6')-Ib-cr;AAC(6')-Ib7;CTX-M-15;OXA-1;TEM-181;aadA5;catB3;dfrA17;mphA;qacEdelta1;sul1;tet(A) |\n",
    "\n",
    "\n",
    " [full output](copla_output.zip)\n",
    " "
   ]
  },
  {
   "cell_type": "code",
   "execution_count": null,
   "id": "76e86e96",
   "metadata": {},
   "outputs": [],
   "source": []
  }
 ],
 "metadata": {
  "kernelspec": {
   "display_name": "Python 3 (ipykernel)",
   "language": "python",
   "name": "python3"
  },
  "language_info": {
   "codemirror_mode": {
    "name": "ipython",
    "version": 3
   },
   "file_extension": ".py",
   "mimetype": "text/x-python",
   "name": "python",
   "nbconvert_exporter": "python",
   "pygments_lexer": "ipython3",
   "version": "3.10.5"
  }
 },
 "nbformat": 4,
 "nbformat_minor": 5
}
