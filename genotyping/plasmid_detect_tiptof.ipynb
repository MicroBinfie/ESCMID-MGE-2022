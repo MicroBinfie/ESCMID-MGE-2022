{
 "cells": [
  {
   "attachments": {},
   "cell_type": "markdown",
   "id": "70293bc8",
   "metadata": {},
   "source": [
    "# Detecting plasmids from uncorrected long reads with tiptoft \n",
    "\n",
    "```\n",
    "tiptoft seq/MGE-2022_ONT.fastq.gz  > tiptoft_mge2022\n",
    "\n",
    "\n",
    "```\n",
    "\n",
    "\n",
    "\n",
    "| GENE                         | COMPLETENESS | %COVERAGE | ACCESSION | DATABASE      | PRODUCT            |\n",
    "|------------------------------|--------------|-----------|-----------|---------------|--------------------|\n",
    "| IncFIA.1                     | Partial      | 96        | AP001918  | plasmidfinder | IncFIA.1__AP001918 |\n",
    "| IncFII.1                     | Partial      | 86        | AY458016  | plasmidfinder | IncFII.1__AY458016 |\n",
    "\n",
    "```\n",
    "MGE-2022_ONT.fastq.gz       3    12   71940.166805671 \n",
    "```\n",
    "\n",
    "*Mobsuite also predicted IncFIA*\n"
   ]
  },
  {
   "cell_type": "code",
   "execution_count": null,
   "id": "8bf918fb",
   "metadata": {},
   "outputs": [],
   "source": []
  }
 ],
 "metadata": {
  "kernelspec": {
   "display_name": "Python 3 (ipykernel)",
   "language": "python",
   "name": "python3"
  },
  "language_info": {
   "codemirror_mode": {
    "name": "ipython",
    "version": 3
   },
   "file_extension": ".py",
   "mimetype": "text/x-python",
   "name": "python",
   "nbconvert_exporter": "python",
   "pygments_lexer": "ipython3",
   "version": "3.10.5"
  }
 },
 "nbformat": 4,
 "nbformat_minor": 5
}
