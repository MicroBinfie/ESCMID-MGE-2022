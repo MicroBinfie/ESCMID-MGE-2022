{
 "cells": [
  {
   "cell_type": "markdown",
   "id": "f049edd4",
   "metadata": {},
   "source": [
    "# Approaches for Phage detection\n",
    "\n",
    "In order of difficulty to acutally run. \n",
    "\n",
    "## PHASTER \n",
    "<div>\n",
    "<img src=\"phaster_shovill.png\" width=\"500\"/>\n",
    "</div>\n",
    "\n",
    "## VirSorter 2 \n",
    "\n",
    "## DeepVirFinder "
   ]
  },
  {
   "cell_type": "code",
   "execution_count": null,
   "id": "5f838588",
   "metadata": {},
   "outputs": [],
   "source": []
  },
  {
   "cell_type": "code",
   "execution_count": null,
   "id": "2ed2b5c3",
   "metadata": {},
   "outputs": [],
   "source": []
  }
 ],
 "metadata": {
  "kernelspec": {
   "display_name": "Python 3 (ipykernel)",
   "language": "python",
   "name": "python3"
  },
  "language_info": {
   "codemirror_mode": {
    "name": "ipython",
    "version": 3
   },
   "file_extension": ".py",
   "mimetype": "text/x-python",
   "name": "python",
   "nbconvert_exporter": "python",
   "pygments_lexer": "ipython3",
   "version": "3.10.5"
  }
 },
 "nbformat": 4,
 "nbformat_minor": 5
}
